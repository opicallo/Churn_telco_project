{
 "cells": [
  {
   "cell_type": "code",
   "execution_count": 2,
   "id": "found-crash",
   "metadata": {},
   "outputs": [],
   "source": [
    "#Standard libraries for data analysis:\n",
    "    \n",
    "import numpy as np\n",
    "import matplotlib.pyplot as plt\n",
    "import pandas as pd\n",
    "from scipy.stats import norm, skew\n",
    "from scipy import stats\n",
    "import statsmodels.api as sm\n",
    "import seaborn as sns\n",
    "# sklearn modules for data preprocessing:\n",
    "from sklearn.impute import SimpleImputer\n",
    "from sklearn.preprocessing import LabelEncoder, OneHotEncoder\n",
    "from sklearn.compose import ColumnTransformer\n",
    "from sklearn.preprocessing import OneHotEncoder\n",
    "from sklearn.model_selection import train_test_split\n",
    "from sklearn.preprocessing import StandardScaler\n",
    "from sklearn.preprocessing import MinMaxScaler\n",
    "from imblearn.over_sampling import SMOTE\n",
    "\n",
    "#sklearn modules for Model Selection:\n",
    "from sklearn import svm, tree, linear_model, neighbors\n",
    "from sklearn import naive_bayes, ensemble, discriminant_analysis, gaussian_process\n",
    "from sklearn.neighbors import KNeighborsClassifier\n",
    "from sklearn.discriminant_analysis import LinearDiscriminantAnalysis\n",
    "from xgboost import XGBClassifier\n",
    "from sklearn.linear_model import LogisticRegression\n",
    "from sklearn.svm import SVC\n",
    "from sklearn.neighbors import KNeighborsClassifier\n",
    "from scipy.stats import uniform\n",
    "from sklearn import linear_model, datasets\n",
    "from sklearn.naive_bayes import GaussianNB\n",
    "from sklearn.tree import DecisionTreeClassifier\n",
    "from sklearn.ensemble import RandomForestClassifier\n",
    "#sklearn modules for Model Evaluation & Improvement:\n",
    "    \n",
    "from sklearn.metrics import confusion_matrix, accuracy_score \n",
    "from sklearn.metrics import f1_score, precision_score, recall_score, fbeta_score\n",
    "from statsmodels.stats.outliers_influence import variance_inflation_factor\n",
    "from sklearn.model_selection import cross_val_score\n",
    "from sklearn.model_selection import RandomizedSearchCV\n",
    "from sklearn.model_selection import GridSearchCV\n",
    "from sklearn.model_selection import ShuffleSplit\n",
    "from sklearn.model_selection import KFold\n",
    "from sklearn.datasets import make_classification\n",
    "from sklearn.model_selection import RepeatedKFold\n",
    "from sklearn.model_selection import cross_val_score\n",
    "from sklearn import feature_selection\n",
    "from sklearn import model_selection\n",
    "from sklearn import metrics\n",
    "from sklearn.model_selection import StratifiedKFold\n",
    "from sklearn.metrics import classification_report, precision_recall_curve\n",
    "from sklearn.metrics import auc, roc_auc_score, roc_curve\n",
    "from sklearn.metrics import make_scorer, recall_score, log_loss\n",
    "from sklearn.metrics import average_precision_score\n",
    "from sklearn.metrics import plot_roc_curve\n",
    "#Standard libraries for data visualization:\n",
    "import seaborn as sn\n",
    "from matplotlib import pyplot\n",
    "import matplotlib.pyplot as plt\n",
    "import matplotlib.pylab as pylab\n",
    "import matplotlib \n",
    "%matplotlib inline\n",
    "color = sn.color_palette()\n",
    "import matplotlib.ticker as mtick\n",
    "from IPython.display import display\n",
    "pd.options.display.max_columns = None\n",
    "from pandas.plotting import scatter_matrix\n",
    "from sklearn.metrics import roc_curve\n",
    "#Miscellaneous Utilitiy Libraries:\n",
    "    \n",
    "import random\n",
    "import os\n",
    "import re\n",
    "import sys\n",
    "import timeit\n",
    "import string\n",
    "import time\n",
    "from datetime import datetime\n",
    "from time import time\n",
    "from dateutil.parser import parse\n",
    "import joblib"
   ]
  },
  {
   "cell_type": "code",
   "execution_count": 3,
   "id": "indirect-basketball",
   "metadata": {},
   "outputs": [
    {
     "data": {
      "text/plain": [
       "'C:\\\\Users\\\\oscar'"
      ]
     },
     "execution_count": 3,
     "metadata": {},
     "output_type": "execute_result"
    }
   ],
   "source": [
    "os.getcwd()"
   ]
  },
  {
   "cell_type": "code",
   "execution_count": 4,
   "id": "numerous-management",
   "metadata": {},
   "outputs": [],
   "source": [
    "os.chdir('C:\\\\Users\\\\oscar\\Downloads')"
   ]
  },
  {
   "cell_type": "code",
   "execution_count": 5,
   "id": "another-google",
   "metadata": {},
   "outputs": [],
   "source": [
    "dataset = pd.read_excel('dataset_alternative_processed.xlsx.xlsx')"
   ]
  },
  {
   "cell_type": "code",
   "execution_count": 6,
   "id": "binary-latvia",
   "metadata": {},
   "outputs": [],
   "source": [
    "y = dataset['Churn Value']\n",
    "\n",
    "X = dataset.drop(['Churn Value'], axis=1)\n",
    "\n",
    "X_train, X_test, y_train, y_test = train_test_split(X, y, test_size = 0.2, random_state = 1234)"
   ]
  },
  {
   "cell_type": "code",
   "execution_count": 7,
   "id": "considerable-travel",
   "metadata": {},
   "outputs": [
    {
     "name": "stdout",
     "output_type": "stream",
     "text": [
      "Shape of X before SMOTE: (7043, 31)\n",
      "Shape of X after SMOTE: (8278, 31)\n",
      "\n",
      "Balance of positive and negative classes (%):\n"
     ]
    },
    {
     "data": {
      "text/plain": [
       "1    50.0\n",
       "0    50.0\n",
       "Name: Churn Value, dtype: float64"
      ]
     },
     "execution_count": 7,
     "metadata": {},
     "output_type": "execute_result"
    }
   ],
   "source": [
    "sm = SMOTE(random_state=1234)\n",
    "\n",
    "X_train, y_train = sm.fit_resample(X_train, y_train)\n",
    "\n",
    "print(f'''Shape of X before SMOTE: {X.shape}\n",
    "Shape of X after SMOTE: {X_train.shape}''')\n",
    "\n",
    "print('\\nBalance of positive and negative classes (%):')\n",
    "y_train.value_counts(normalize=True) * 100"
   ]
  },
  {
   "cell_type": "markdown",
   "id": "seasonal-origin",
   "metadata": {},
   "source": [
    "## Random Forest"
   ]
  },
  {
   "cell_type": "markdown",
   "id": "infectious-tiger",
   "metadata": {},
   "source": [
    "### Feature Selection"
   ]
  },
  {
   "cell_type": "code",
   "execution_count": 8,
   "id": "surface-lawsuit",
   "metadata": {},
   "outputs": [
    {
     "name": "stdout",
     "output_type": "stream",
     "text": [
      "Optimal number of features : 31\n"
     ]
    },
    {
     "data": {
      "image/png": "[encoded data removed]",
      "text/plain": [
       "<Figure size 864x432 with 1 Axes>"
      ]
     },
     "metadata": {
      "needs_background": "light"
     },
     "output_type": "display_data"
    }
   ],
   "source": [
    "from sklearn.feature_selection import RFECV\n",
    "from sklearn.pipeline import Pipeline\n",
    "from sklearn.model_selection import RepeatedStratifiedKFold\n",
    "\n",
    "rfecv = RFECV(estimator= RandomForestClassifier())\n",
    "\n",
    "\n",
    "\n",
    "pipeline = Pipeline([('Feature Selection', rfecv), ('Model', RandomForestClassifier())])\n",
    "cv = RepeatedStratifiedKFold(n_splits=10, n_repeats=5, random_state=36851234)\n",
    "n_scores = cross_val_score(pipeline, X_train, y_train, scoring='f1', cv=cv, n_jobs=-1)\n",
    "np.mean(n_scores)\n",
    "\n",
    "pipeline.fit(X_train,y_train)\n",
    "\n",
    "print(\"Optimal number of features : %d\" % rfecv.n_features_)\n",
    "\n",
    "    \n",
    "rfecv.support_\n",
    "rfecv_df = pd.DataFrame(rfecv.ranking_,index=X.columns,columns=[\"Rank\"]).sort_values(by=\"Rank\",ascending=True)\n",
    "rfecv_df.head()\n",
    "\n",
    "import matplotlib.pyplot as plt\n",
    "plt.figure(figsize=(12,6))\n",
    "plt.xlabel(\"Number of features selected\")\n",
    "plt.ylabel(\"Cross validation score (nb of correct classifications)\")\n",
    "plt.plot(range(1, len(rfecv.grid_scores_) + 1), rfecv.grid_scores_)\n",
    "plt.show()"
   ]
  },
  {
   "cell_type": "code",
   "execution_count": 9,
   "id": "random-builder",
   "metadata": {},
   "outputs": [
    {
     "data": {
      "text/html": [
       "<div>\n",
       "<style scoped>\n",
       "    .dataframe tbody tr th:only-of-type {\n",
       "        vertical-align: middle;\n",
       "    }\n",
       "\n",
       "    .dataframe tbody tr th {\n",
       "        vertical-align: top;\n",
       "    }\n",
       "\n",
       "    .dataframe thead th {\n",
       "        text-align: right;\n",
       "    }\n",
       "</style>\n",
       "<table border=\"1\" class=\"dataframe\">\n",
       "  <thead>\n",
       "    <tr style=\"text-align: right;\">\n",
       "      <th></th>\n",
       "      <th>Rank</th>\n",
       "    </tr>\n",
       "  </thead>\n",
       "  <tbody>\n",
       "    <tr>\n",
       "      <th>Tenure Months</th>\n",
       "      <td>1</td>\n",
       "    </tr>\n",
       "    <tr>\n",
       "      <th>Contract_One year</th>\n",
       "      <td>1</td>\n",
       "    </tr>\n",
       "    <tr>\n",
       "      <th>Payment Method_Mailed check</th>\n",
       "      <td>1</td>\n",
       "    </tr>\n",
       "    <tr>\n",
       "      <th>Payment Method_Electronic check</th>\n",
       "      <td>1</td>\n",
       "    </tr>\n",
       "    <tr>\n",
       "      <th>Payment Method_Credit card (automatic)</th>\n",
       "      <td>1</td>\n",
       "    </tr>\n",
       "    <tr>\n",
       "      <th>Streaming Movies_Yes</th>\n",
       "      <td>1</td>\n",
       "    </tr>\n",
       "    <tr>\n",
       "      <th>Streaming Movies_No internet service</th>\n",
       "      <td>1</td>\n",
       "    </tr>\n",
       "    <tr>\n",
       "      <th>Streaming TV_Yes</th>\n",
       "      <td>1</td>\n",
       "    </tr>\n",
       "    <tr>\n",
       "      <th>Streaming TV_No internet service</th>\n",
       "      <td>1</td>\n",
       "    </tr>\n",
       "    <tr>\n",
       "      <th>Tech Support_Yes</th>\n",
       "      <td>1</td>\n",
       "    </tr>\n",
       "    <tr>\n",
       "      <th>Tech Support_No internet service</th>\n",
       "      <td>1</td>\n",
       "    </tr>\n",
       "    <tr>\n",
       "      <th>Device Protection_Yes</th>\n",
       "      <td>1</td>\n",
       "    </tr>\n",
       "    <tr>\n",
       "      <th>Device Protection_No internet service</th>\n",
       "      <td>1</td>\n",
       "    </tr>\n",
       "    <tr>\n",
       "      <th>Online Backup_Yes</th>\n",
       "      <td>1</td>\n",
       "    </tr>\n",
       "    <tr>\n",
       "      <th>Contract_Two year</th>\n",
       "      <td>1</td>\n",
       "    </tr>\n",
       "    <tr>\n",
       "      <th>Online Backup_No internet service</th>\n",
       "      <td>1</td>\n",
       "    </tr>\n",
       "    <tr>\n",
       "      <th>Online Security_No internet service</th>\n",
       "      <td>1</td>\n",
       "    </tr>\n",
       "    <tr>\n",
       "      <th>Internet Service_No</th>\n",
       "      <td>1</td>\n",
       "    </tr>\n",
       "    <tr>\n",
       "      <th>Internet Service_Fiber optic</th>\n",
       "      <td>1</td>\n",
       "    </tr>\n",
       "    <tr>\n",
       "      <th>Paperless Billing_1</th>\n",
       "      <td>1</td>\n",
       "    </tr>\n",
       "    <tr>\n",
       "      <th>Dependents_1</th>\n",
       "      <td>1</td>\n",
       "    </tr>\n",
       "    <tr>\n",
       "      <th>Partner_1</th>\n",
       "      <td>1</td>\n",
       "    </tr>\n",
       "    <tr>\n",
       "      <th>Senior Citizen_1</th>\n",
       "      <td>1</td>\n",
       "    </tr>\n",
       "    <tr>\n",
       "      <th>Multiple Lines_Yes</th>\n",
       "      <td>1</td>\n",
       "    </tr>\n",
       "    <tr>\n",
       "      <th>Multiple Lines_No phone service</th>\n",
       "      <td>1</td>\n",
       "    </tr>\n",
       "    <tr>\n",
       "      <th>Gender_1</th>\n",
       "      <td>1</td>\n",
       "    </tr>\n",
       "    <tr>\n",
       "      <th>CLTV</th>\n",
       "      <td>1</td>\n",
       "    </tr>\n",
       "    <tr>\n",
       "      <th>Total Charges</th>\n",
       "      <td>1</td>\n",
       "    </tr>\n",
       "    <tr>\n",
       "      <th>Monthly Charges</th>\n",
       "      <td>1</td>\n",
       "    </tr>\n",
       "    <tr>\n",
       "      <th>Online Security_Yes</th>\n",
       "      <td>1</td>\n",
       "    </tr>\n",
       "    <tr>\n",
       "      <th>Phone Service_1</th>\n",
       "      <td>1</td>\n",
       "    </tr>\n",
       "  </tbody>\n",
       "</table>\n",
       "</div>"
      ],
      "text/plain": [
       "                                        Rank\n",
       "Tenure Months                              1\n",
       "Contract_One year                          1\n",
       "Payment Method_Mailed check                1\n",
       "Payment Method_Electronic check            1\n",
       "Payment Method_Credit card (automatic)     1\n",
       "Streaming Movies_Yes                       1\n",
       "Streaming Movies_No internet service       1\n",
       "Streaming TV_Yes                           1\n",
       "Streaming TV_No internet service           1\n",
       "Tech Support_Yes                           1\n",
       "Tech Support_No internet service           1\n",
       "Device Protection_Yes                      1\n",
       "Device Protection_No internet service      1\n",
       "Online Backup_Yes                          1\n",
       "Contract_Two year                          1\n",
       "Online Backup_No internet service          1\n",
       "Online Security_No internet service        1\n",
       "Internet Service_No                        1\n",
       "Internet Service_Fiber optic               1\n",
       "Paperless Billing_1                        1\n",
       "Dependents_1                               1\n",
       "Partner_1                                  1\n",
       "Senior Citizen_1                           1\n",
       "Multiple Lines_Yes                         1\n",
       "Multiple Lines_No phone service            1\n",
       "Gender_1                                   1\n",
       "CLTV                                       1\n",
       "Total Charges                              1\n",
       "Monthly Charges                            1\n",
       "Online Security_Yes                        1\n",
       "Phone Service_1                            1"
      ]
     },
     "execution_count": 9,
     "metadata": {},
     "output_type": "execute_result"
    }
   ],
   "source": [
    "rfecv_df"
   ]
  },
  {
   "cell_type": "markdown",
   "id": "communist-vulnerability",
   "metadata": {},
   "source": [
    "## Recreate Dataset with the optiminal features"
   ]
  },
  {
   "cell_type": "code",
   "execution_count": null,
   "id": "visible-interference",
   "metadata": {},
   "outputs": [],
   "source": [
    "dataset.drop([],axis=1, inplace=True)"
   ]
  },
  {
   "cell_type": "code",
   "execution_count": 10,
   "id": "bulgarian-separation",
   "metadata": {},
   "outputs": [],
   "source": [
    "y = dataset['Churn Value']\n",
    "\n",
    "X = dataset.drop(['Churn Value'], axis=1)\n",
    "\n",
    "X_train, X_test, y_train, y_test = train_test_split(X, y, test_size = 0.2, random_state = 1234)\n",
    "\n",
    "sm = SMOTE(random_state=1234)\n",
    "\n",
    "X_train, y_train = sm.fit_resample(X_train, y_train)"
   ]
  },
  {
   "cell_type": "markdown",
   "id": "peaceful-competition",
   "metadata": {},
   "source": [
    "### Hyperparameters"
   ]
  },
  {
   "cell_type": "code",
   "execution_count": 68,
   "id": "seventh-chassis",
   "metadata": {},
   "outputs": [
    {
     "data": {
      "text/plain": [
       "{'class_weight': 'balanced',\n",
       " 'criterion': 'gini',\n",
       " 'max_depth': 8,\n",
       " 'max_features': None,\n",
       " 'min_samples_leaf': 5,\n",
       " 'min_samples_split': 0.2,\n",
       " 'n_estimators': 50}"
      ]
     },
     "execution_count": 68,
     "metadata": {},
     "output_type": "execute_result"
    }
   ],
   "source": [
    "grid_params_rf = [{'criterion': ['gini', 'entropy'], # measures split quality\n",
    "                   'class_weight': ['balanced'], # adjust imbalanced positive class\n",
    "                   'n_estimators': [50, 100, 200, 500], # number trees to grow            \n",
    "                   'max_features': ['auto', 6, None], # features considered at splits\n",
    "                   'max_depth': [4, 6, 8, 10],  # max nodes in each tree\n",
    "                   'min_samples_leaf': [5, 10, 15], # samples required in each leaf\n",
    "                   'min_samples_split': [0.1, 0.2, 0.3, 0.4], # percentage required to split node\n",
    "                    }]\n",
    "\n",
    "\n",
    "clf = GridSearchCV(estimator=RandomForestClassifier(), param_grid=grid_params_rf, n_jobs=-1, cv=5, scoring='f1')\n",
    "clf.fit(X_train, y_train)\n",
    "clf.best_params_\n"
   ]
  },
  {
   "cell_type": "markdown",
   "id": "democratic-workshop",
   "metadata": {},
   "source": [
    "## Final Model"
   ]
  },
  {
   "cell_type": "code",
   "execution_count": 70,
   "id": "rotary-demonstration",
   "metadata": {},
   "outputs": [
    {
     "name": "stdout",
     "output_type": "stream",
     "text": [
      "ROC AUC: 0.7618150817639309\n",
      "f1_score: 0.6187192118226601\n",
      "accuracy: 0.7253371185237757\n",
      "precision: 0.48985959438377535\n",
      "recall: 0.839572192513369\n",
      "[[708 327]\n",
      " [ 60 314]]\n",
      "              precision    recall  f1-score   support\n",
      "\n",
      "           0       0.92      0.68      0.79      1035\n",
      "           1       0.49      0.84      0.62       374\n",
      "\n",
      "    accuracy                           0.73      1409\n",
      "   macro avg       0.71      0.76      0.70      1409\n",
      "weighted avg       0.81      0.73      0.74      1409\n",
      "\n"
     ]
    },
    {
     "data": {
      "image/png": "[encoded data removed]",
      "text/plain": [
       "<Figure size 432x288 with 2 Axes>"
      ]
     },
     "metadata": {
      "needs_background": "light"
     },
     "output_type": "display_data"
    }
   ],
   "source": [
    "#RANDOM FOREST\n",
    "#RForest = RandomForestClassifier(n_estimators=300, max_depth=6)\n",
    "RForest = RandomForestClassifier(class_weight= 'balanced', criterion = 'gini', max_depth=8, max_features=None, \n",
    "min_samples_leaf=5, min_samples_split=0.2, n_estimators=50)\n",
    "                                \n",
    "RForest.fit(X_train, y_train)\n",
    "forest_pred= RForest.predict(X_test)\n",
    "\n",
    "RForest_roc_auc_score_default = roc_auc_score(y_test, forest_pred)\n",
    "RForesr_accuracy_default = accuracy_score(y_test, forest_pred)\n",
    "\n",
    "print(\"ROC AUC:\",roc_auc_score(y_test, forest_pred))\n",
    "print(\"f1_score:\",f1_score(y_test, forest_pred))\n",
    "print(\"accuracy:\",metrics.accuracy_score(y_test, forest_pred))\n",
    "print(\"precision:\",metrics.precision_score(y_test, forest_pred))\n",
    "print(\"recall:\",metrics.recall_score(y_test, forest_pred))\n",
    "\n",
    "print(confusion_matrix(y_test, forest_pred))\n",
    "\n",
    "# classification report\n",
    "print(classification_report(y_test, forest_pred))\n",
    "\n",
    "# confusion matrix\n",
    "fig, ax = plt.subplots()\n",
    "sns.heatmap(confusion_matrix(y_test, forest_pred, normalize='true'), annot=True, ax=ax)\n",
    "ax.set_title('Confusion Matrix')\n",
    "ax.set_ylabel('Real Value')\n",
    "ax.set_xlabel('Predicted Value')\n",
    "\n",
    "plt.show()"
   ]
  },
  {
   "cell_type": "code",
   "execution_count": null,
   "id": "composite-latter",
   "metadata": {},
   "outputs": [],
   "source": []
  },
  {
   "cell_type": "code",
   "execution_count": null,
   "id": "fiscal-luther",
   "metadata": {},
   "outputs": [],
   "source": []
  }
 ],
 "metadata": {
  "kernelspec": {
   "display_name": "Python 3",
   "language": "python",
   "name": "python3"
  },
  "language_info": {
   "codemirror_mode": {
    "name": "ipython",
    "version": 3
   },
   "file_extension": ".py",
   "mimetype": "text/x-python",
   "name": "python",
   "nbconvert_exporter": "python",
   "pygments_lexer": "ipython3",
   "version": "3.7.6"
  }
 },
 "nbformat": 4,
 "nbformat_minor": 5
}
