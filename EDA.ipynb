{
 "cells": [
  {
   "cell_type": "markdown",
   "id": "acute-breakfast",
   "metadata": {},
   "source": [
    "# EXPLORATORY DATA ANALYSIS"
   ]
  },
  {
   "cell_type": "markdown",
   "id": "needed-medicaid",
   "metadata": {},
   "source": [
    "### Libraries "
   ]
  },
  {
   "cell_type": "code",
   "execution_count": 211,
   "id": "every-plastic",
   "metadata": {},
   "outputs": [],
   "source": [
    "#Standard libraries for data analysis:\n",
    "    \n",
    "import numpy as np\n",
    "import matplotlib.pyplot as plt\n",
    "import pandas as pd\n",
    "from scipy.stats import norm, skew\n",
    "from scipy import stats\n",
    "import statsmodels.api as sm\n",
    "import seaborn as sns\n",
    "# sklearn modules for data preprocessing:\n",
    "from sklearn.impute import SimpleImputer\n",
    "from sklearn.preprocessing import LabelEncoder, OneHotEncoder\n",
    "from sklearn.compose import ColumnTransformer\n",
    "from sklearn.preprocessing import OneHotEncoder\n",
    "from sklearn.model_selection import train_test_split\n",
    "from sklearn.preprocessing import StandardScaler\n",
    "from sklearn.preprocessing import MinMaxScaler\n",
    "from imblearn.over_sampling import SMOTE\n",
    "\n",
    "#sklearn modules for Model Selection:\n",
    "from sklearn import svm, tree, linear_model, neighbors\n",
    "from sklearn import naive_bayes, ensemble, discriminant_analysis, gaussian_process\n",
    "from sklearn.neighbors import KNeighborsClassifier\n",
    "from sklearn.discriminant_analysis import LinearDiscriminantAnalysis\n",
    "from xgboost import XGBClassifier\n",
    "from sklearn.linear_model import LogisticRegression\n",
    "from sklearn.svm import SVC\n",
    "from sklearn.neighbors import KNeighborsClassifier\n",
    "from scipy.stats import uniform\n",
    "from sklearn import linear_model, datasets\n",
    "from sklearn.naive_bayes import GaussianNB\n",
    "from sklearn.tree import DecisionTreeClassifier\n",
    "from sklearn.ensemble import RandomForestClassifier\n",
    "#sklearn modules for Model Evaluation & Improvement:\n",
    "    \n",
    "from sklearn.metrics import confusion_matrix, accuracy_score \n",
    "from sklearn.metrics import f1_score, precision_score, recall_score, fbeta_score\n",
    "from statsmodels.stats.outliers_influence import variance_inflation_factor\n",
    "from sklearn.model_selection import cross_val_score\n",
    "from sklearn.model_selection import RandomizedSearchCV\n",
    "from sklearn.model_selection import GridSearchCV\n",
    "from sklearn.model_selection import ShuffleSplit\n",
    "from sklearn.model_selection import KFold\n",
    "from sklearn.datasets import make_classification\n",
    "from sklearn.model_selection import RepeatedKFold\n",
    "from sklearn.model_selection import cross_val_score\n",
    "from sklearn import feature_selection\n",
    "from sklearn import model_selection\n",
    "from sklearn import metrics\n",
    "from sklearn.metrics import classification_report, precision_recall_curve\n",
    "from sklearn.metrics import auc, roc_auc_score, roc_curve\n",
    "from sklearn.metrics import make_scorer, recall_score, log_loss\n",
    "from sklearn.metrics import average_precision_score\n",
    "from sklearn.metrics import plot_roc_curve\n",
    "#Standard libraries for data visualization:\n",
    "import seaborn as sn\n",
    "from matplotlib import pyplot\n",
    "import matplotlib.pyplot as plt\n",
    "import matplotlib.pylab as pylab\n",
    "import matplotlib \n",
    "%matplotlib inline\n",
    "color = sn.color_palette()\n",
    "import matplotlib.ticker as mtick\n",
    "from IPython.display import display\n",
    "pd.options.display.max_columns = None\n",
    "from pandas.plotting import scatter_matrix\n",
    "from sklearn.metrics import roc_curve\n",
    "#Miscellaneous Utilitiy Libraries:\n",
    "    \n",
    "import random\n",
    "import os\n",
    "import re\n",
    "import sys\n",
    "import timeit\n",
    "import string\n",
    "import time\n",
    "from datetime import datetime\n",
    "from time import time\n",
    "from dateutil.parser import parse\n",
    "import joblib"
   ]
  },
  {
   "cell_type": "code",
   "execution_count": 212,
   "id": "expressed-jason",
   "metadata": {},
   "outputs": [
    {
     "data": {
      "text/plain": [
       "'C:\\\\Users\\\\oscar\\\\Downloads'"
      ]
     },
     "execution_count": 212,
     "metadata": {},
     "output_type": "execute_result"
    }
   ],
   "source": [
    "os.getcwd()"
   ]
  },
  {
   "cell_type": "code",
   "execution_count": 213,
   "id": "light-player",
   "metadata": {},
   "outputs": [],
   "source": [
    "os.chdir('C:\\\\Users\\\\oscar\\Downloads')"
   ]
  },
  {
   "cell_type": "code",
   "execution_count": 214,
   "id": "linear-orleans",
   "metadata": {},
   "outputs": [],
   "source": [
    "dataset = pd.read_excel('Telco_customer_churn (3).xlsx')"
   ]
  },
  {
   "cell_type": "code",
   "execution_count": 215,
   "id": "strange-coordination",
   "metadata": {},
   "outputs": [
    {
     "data": {
      "text/html": [
       "<div>\n",
       "<style scoped>\n",
       "    .dataframe tbody tr th:only-of-type {\n",
       "        vertical-align: middle;\n",
       "    }\n",
       "\n",
       "    .dataframe tbody tr th {\n",
       "        vertical-align: top;\n",
       "    }\n",
       "\n",
       "    .dataframe thead th {\n",
       "        text-align: right;\n",
       "    }\n",
       "</style>\n",
       "<table border=\"1\" class=\"dataframe\">\n",
       "  <thead>\n",
       "    <tr style=\"text-align: right;\">\n",
       "      <th></th>\n",
       "      <th>CustomerID</th>\n",
       "      <th>Count</th>\n",
       "      <th>Country</th>\n",
       "      <th>State</th>\n",
       "      <th>City</th>\n",
       "      <th>Zip Code</th>\n",
       "      <th>Lat Long</th>\n",
       "      <th>Latitude</th>\n",
       "      <th>Longitude</th>\n",
       "      <th>Gender</th>\n",
       "      <th>Senior Citizen</th>\n",
       "      <th>Partner</th>\n",
       "      <th>Dependents</th>\n",
       "      <th>Tenure Months</th>\n",
       "      <th>Phone Service</th>\n",
       "      <th>Multiple Lines</th>\n",
       "      <th>Internet Service</th>\n",
       "      <th>Online Security</th>\n",
       "      <th>Online Backup</th>\n",
       "      <th>Device Protection</th>\n",
       "      <th>Tech Support</th>\n",
       "      <th>Streaming TV</th>\n",
       "      <th>Streaming Movies</th>\n",
       "      <th>Contract</th>\n",
       "      <th>Paperless Billing</th>\n",
       "      <th>Payment Method</th>\n",
       "      <th>Monthly Charges</th>\n",
       "      <th>Total Charges</th>\n",
       "      <th>Churn Label</th>\n",
       "      <th>Churn Value</th>\n",
       "      <th>Churn Score</th>\n",
       "      <th>CLTV</th>\n",
       "      <th>Churn Reason</th>\n",
       "    </tr>\n",
       "  </thead>\n",
       "  <tbody>\n",
       "    <tr>\n",
       "      <th>0</th>\n",
       "      <td>3668-QPYBK</td>\n",
       "      <td>1</td>\n",
       "      <td>United States</td>\n",
       "      <td>California</td>\n",
       "      <td>Los Angeles</td>\n",
       "      <td>90003</td>\n",
       "      <td>33.964131, -118.272783</td>\n",
       "      <td>33.964131</td>\n",
       "      <td>-118.272783</td>\n",
       "      <td>Male</td>\n",
       "      <td>No</td>\n",
       "      <td>No</td>\n",
       "      <td>No</td>\n",
       "      <td>2</td>\n",
       "      <td>Yes</td>\n",
       "      <td>No</td>\n",
       "      <td>DSL</td>\n",
       "      <td>Yes</td>\n",
       "      <td>Yes</td>\n",
       "      <td>No</td>\n",
       "      <td>No</td>\n",
       "      <td>No</td>\n",
       "      <td>No</td>\n",
       "      <td>Month-to-month</td>\n",
       "      <td>Yes</td>\n",
       "      <td>Mailed check</td>\n",
       "      <td>53.85</td>\n",
       "      <td>108.15</td>\n",
       "      <td>Yes</td>\n",
       "      <td>1</td>\n",
       "      <td>86</td>\n",
       "      <td>3239</td>\n",
       "      <td>Competitor made better offer</td>\n",
       "    </tr>\n",
       "    <tr>\n",
       "      <th>1</th>\n",
       "      <td>9237-HQITU</td>\n",
       "      <td>1</td>\n",
       "      <td>United States</td>\n",
       "      <td>California</td>\n",
       "      <td>Los Angeles</td>\n",
       "      <td>90005</td>\n",
       "      <td>34.059281, -118.30742</td>\n",
       "      <td>34.059281</td>\n",
       "      <td>-118.307420</td>\n",
       "      <td>Female</td>\n",
       "      <td>No</td>\n",
       "      <td>No</td>\n",
       "      <td>Yes</td>\n",
       "      <td>2</td>\n",
       "      <td>Yes</td>\n",
       "      <td>No</td>\n",
       "      <td>Fiber optic</td>\n",
       "      <td>No</td>\n",
       "      <td>No</td>\n",
       "      <td>No</td>\n",
       "      <td>No</td>\n",
       "      <td>No</td>\n",
       "      <td>No</td>\n",
       "      <td>Month-to-month</td>\n",
       "      <td>Yes</td>\n",
       "      <td>Electronic check</td>\n",
       "      <td>70.70</td>\n",
       "      <td>151.65</td>\n",
       "      <td>Yes</td>\n",
       "      <td>1</td>\n",
       "      <td>67</td>\n",
       "      <td>2701</td>\n",
       "      <td>Moved</td>\n",
       "    </tr>\n",
       "    <tr>\n",
       "      <th>2</th>\n",
       "      <td>9305-CDSKC</td>\n",
       "      <td>1</td>\n",
       "      <td>United States</td>\n",
       "      <td>California</td>\n",
       "      <td>Los Angeles</td>\n",
       "      <td>90006</td>\n",
       "      <td>34.048013, -118.293953</td>\n",
       "      <td>34.048013</td>\n",
       "      <td>-118.293953</td>\n",
       "      <td>Female</td>\n",
       "      <td>No</td>\n",
       "      <td>No</td>\n",
       "      <td>Yes</td>\n",
       "      <td>8</td>\n",
       "      <td>Yes</td>\n",
       "      <td>Yes</td>\n",
       "      <td>Fiber optic</td>\n",
       "      <td>No</td>\n",
       "      <td>No</td>\n",
       "      <td>Yes</td>\n",
       "      <td>No</td>\n",
       "      <td>Yes</td>\n",
       "      <td>Yes</td>\n",
       "      <td>Month-to-month</td>\n",
       "      <td>Yes</td>\n",
       "      <td>Electronic check</td>\n",
       "      <td>99.65</td>\n",
       "      <td>820.5</td>\n",
       "      <td>Yes</td>\n",
       "      <td>1</td>\n",
       "      <td>86</td>\n",
       "      <td>5372</td>\n",
       "      <td>Moved</td>\n",
       "    </tr>\n",
       "    <tr>\n",
       "      <th>3</th>\n",
       "      <td>7892-POOKP</td>\n",
       "      <td>1</td>\n",
       "      <td>United States</td>\n",
       "      <td>California</td>\n",
       "      <td>Los Angeles</td>\n",
       "      <td>90010</td>\n",
       "      <td>34.062125, -118.315709</td>\n",
       "      <td>34.062125</td>\n",
       "      <td>-118.315709</td>\n",
       "      <td>Female</td>\n",
       "      <td>No</td>\n",
       "      <td>Yes</td>\n",
       "      <td>Yes</td>\n",
       "      <td>28</td>\n",
       "      <td>Yes</td>\n",
       "      <td>Yes</td>\n",
       "      <td>Fiber optic</td>\n",
       "      <td>No</td>\n",
       "      <td>No</td>\n",
       "      <td>Yes</td>\n",
       "      <td>Yes</td>\n",
       "      <td>Yes</td>\n",
       "      <td>Yes</td>\n",
       "      <td>Month-to-month</td>\n",
       "      <td>Yes</td>\n",
       "      <td>Electronic check</td>\n",
       "      <td>104.80</td>\n",
       "      <td>3046.05</td>\n",
       "      <td>Yes</td>\n",
       "      <td>1</td>\n",
       "      <td>84</td>\n",
       "      <td>5003</td>\n",
       "      <td>Moved</td>\n",
       "    </tr>\n",
       "    <tr>\n",
       "      <th>4</th>\n",
       "      <td>0280-XJGEX</td>\n",
       "      <td>1</td>\n",
       "      <td>United States</td>\n",
       "      <td>California</td>\n",
       "      <td>Los Angeles</td>\n",
       "      <td>90015</td>\n",
       "      <td>34.039224, -118.266293</td>\n",
       "      <td>34.039224</td>\n",
       "      <td>-118.266293</td>\n",
       "      <td>Male</td>\n",
       "      <td>No</td>\n",
       "      <td>No</td>\n",
       "      <td>Yes</td>\n",
       "      <td>49</td>\n",
       "      <td>Yes</td>\n",
       "      <td>Yes</td>\n",
       "      <td>Fiber optic</td>\n",
       "      <td>No</td>\n",
       "      <td>Yes</td>\n",
       "      <td>Yes</td>\n",
       "      <td>No</td>\n",
       "      <td>Yes</td>\n",
       "      <td>Yes</td>\n",
       "      <td>Month-to-month</td>\n",
       "      <td>Yes</td>\n",
       "      <td>Bank transfer (automatic)</td>\n",
       "      <td>103.70</td>\n",
       "      <td>5036.3</td>\n",
       "      <td>Yes</td>\n",
       "      <td>1</td>\n",
       "      <td>89</td>\n",
       "      <td>5340</td>\n",
       "      <td>Competitor had better devices</td>\n",
       "    </tr>\n",
       "    <tr>\n",
       "      <th>5</th>\n",
       "      <td>4190-MFLUW</td>\n",
       "      <td>1</td>\n",
       "      <td>United States</td>\n",
       "      <td>California</td>\n",
       "      <td>Los Angeles</td>\n",
       "      <td>90020</td>\n",
       "      <td>34.066367, -118.309868</td>\n",
       "      <td>34.066367</td>\n",
       "      <td>-118.309868</td>\n",
       "      <td>Female</td>\n",
       "      <td>No</td>\n",
       "      <td>Yes</td>\n",
       "      <td>No</td>\n",
       "      <td>10</td>\n",
       "      <td>Yes</td>\n",
       "      <td>No</td>\n",
       "      <td>DSL</td>\n",
       "      <td>No</td>\n",
       "      <td>No</td>\n",
       "      <td>Yes</td>\n",
       "      <td>Yes</td>\n",
       "      <td>No</td>\n",
       "      <td>No</td>\n",
       "      <td>Month-to-month</td>\n",
       "      <td>No</td>\n",
       "      <td>Credit card (automatic)</td>\n",
       "      <td>55.20</td>\n",
       "      <td>528.35</td>\n",
       "      <td>Yes</td>\n",
       "      <td>1</td>\n",
       "      <td>78</td>\n",
       "      <td>5925</td>\n",
       "      <td>Competitor offered higher download speeds</td>\n",
       "    </tr>\n",
       "    <tr>\n",
       "      <th>6</th>\n",
       "      <td>8779-QRDMV</td>\n",
       "      <td>1</td>\n",
       "      <td>United States</td>\n",
       "      <td>California</td>\n",
       "      <td>Los Angeles</td>\n",
       "      <td>90022</td>\n",
       "      <td>34.02381, -118.156582</td>\n",
       "      <td>34.023810</td>\n",
       "      <td>-118.156582</td>\n",
       "      <td>Male</td>\n",
       "      <td>Yes</td>\n",
       "      <td>No</td>\n",
       "      <td>No</td>\n",
       "      <td>1</td>\n",
       "      <td>No</td>\n",
       "      <td>No phone service</td>\n",
       "      <td>DSL</td>\n",
       "      <td>No</td>\n",
       "      <td>No</td>\n",
       "      <td>Yes</td>\n",
       "      <td>No</td>\n",
       "      <td>No</td>\n",
       "      <td>Yes</td>\n",
       "      <td>Month-to-month</td>\n",
       "      <td>Yes</td>\n",
       "      <td>Electronic check</td>\n",
       "      <td>39.65</td>\n",
       "      <td>39.65</td>\n",
       "      <td>Yes</td>\n",
       "      <td>1</td>\n",
       "      <td>100</td>\n",
       "      <td>5433</td>\n",
       "      <td>Competitor offered more data</td>\n",
       "    </tr>\n",
       "    <tr>\n",
       "      <th>7</th>\n",
       "      <td>1066-JKSGK</td>\n",
       "      <td>1</td>\n",
       "      <td>United States</td>\n",
       "      <td>California</td>\n",
       "      <td>Los Angeles</td>\n",
       "      <td>90024</td>\n",
       "      <td>34.066303, -118.435479</td>\n",
       "      <td>34.066303</td>\n",
       "      <td>-118.435479</td>\n",
       "      <td>Male</td>\n",
       "      <td>No</td>\n",
       "      <td>No</td>\n",
       "      <td>No</td>\n",
       "      <td>1</td>\n",
       "      <td>Yes</td>\n",
       "      <td>No</td>\n",
       "      <td>No</td>\n",
       "      <td>No internet service</td>\n",
       "      <td>No internet service</td>\n",
       "      <td>No internet service</td>\n",
       "      <td>No internet service</td>\n",
       "      <td>No internet service</td>\n",
       "      <td>No internet service</td>\n",
       "      <td>Month-to-month</td>\n",
       "      <td>No</td>\n",
       "      <td>Mailed check</td>\n",
       "      <td>20.15</td>\n",
       "      <td>20.15</td>\n",
       "      <td>Yes</td>\n",
       "      <td>1</td>\n",
       "      <td>92</td>\n",
       "      <td>4832</td>\n",
       "      <td>Competitor made better offer</td>\n",
       "    </tr>\n",
       "    <tr>\n",
       "      <th>8</th>\n",
       "      <td>6467-CHFZW</td>\n",
       "      <td>1</td>\n",
       "      <td>United States</td>\n",
       "      <td>California</td>\n",
       "      <td>Los Angeles</td>\n",
       "      <td>90028</td>\n",
       "      <td>34.099869, -118.326843</td>\n",
       "      <td>34.099869</td>\n",
       "      <td>-118.326843</td>\n",
       "      <td>Male</td>\n",
       "      <td>No</td>\n",
       "      <td>Yes</td>\n",
       "      <td>Yes</td>\n",
       "      <td>47</td>\n",
       "      <td>Yes</td>\n",
       "      <td>Yes</td>\n",
       "      <td>Fiber optic</td>\n",
       "      <td>No</td>\n",
       "      <td>Yes</td>\n",
       "      <td>No</td>\n",
       "      <td>No</td>\n",
       "      <td>Yes</td>\n",
       "      <td>Yes</td>\n",
       "      <td>Month-to-month</td>\n",
       "      <td>Yes</td>\n",
       "      <td>Electronic check</td>\n",
       "      <td>99.35</td>\n",
       "      <td>4749.15</td>\n",
       "      <td>Yes</td>\n",
       "      <td>1</td>\n",
       "      <td>77</td>\n",
       "      <td>5789</td>\n",
       "      <td>Competitor had better devices</td>\n",
       "    </tr>\n",
       "    <tr>\n",
       "      <th>9</th>\n",
       "      <td>8665-UTDHZ</td>\n",
       "      <td>1</td>\n",
       "      <td>United States</td>\n",
       "      <td>California</td>\n",
       "      <td>Los Angeles</td>\n",
       "      <td>90029</td>\n",
       "      <td>34.089953, -118.294824</td>\n",
       "      <td>34.089953</td>\n",
       "      <td>-118.294824</td>\n",
       "      <td>Male</td>\n",
       "      <td>No</td>\n",
       "      <td>Yes</td>\n",
       "      <td>No</td>\n",
       "      <td>1</td>\n",
       "      <td>No</td>\n",
       "      <td>No phone service</td>\n",
       "      <td>DSL</td>\n",
       "      <td>No</td>\n",
       "      <td>Yes</td>\n",
       "      <td>No</td>\n",
       "      <td>No</td>\n",
       "      <td>No</td>\n",
       "      <td>No</td>\n",
       "      <td>Month-to-month</td>\n",
       "      <td>No</td>\n",
       "      <td>Electronic check</td>\n",
       "      <td>30.20</td>\n",
       "      <td>30.2</td>\n",
       "      <td>Yes</td>\n",
       "      <td>1</td>\n",
       "      <td>97</td>\n",
       "      <td>2915</td>\n",
       "      <td>Competitor had better devices</td>\n",
       "    </tr>\n",
       "  </tbody>\n",
       "</table>\n",
       "</div>"
      ],
      "text/plain": [
       "   CustomerID  Count        Country       State         City  Zip Code  \\\n",
       "0  3668-QPYBK      1  United States  California  Los Angeles     90003   \n",
       "1  9237-HQITU      1  United States  California  Los Angeles     90005   \n",
       "2  9305-CDSKC      1  United States  California  Los Angeles     90006   \n",
       "3  7892-POOKP      1  United States  California  Los Angeles     90010   \n",
       "4  0280-XJGEX      1  United States  California  Los Angeles     90015   \n",
       "5  4190-MFLUW      1  United States  California  Los Angeles     90020   \n",
       "6  8779-QRDMV      1  United States  California  Los Angeles     90022   \n",
       "7  1066-JKSGK      1  United States  California  Los Angeles     90024   \n",
       "8  6467-CHFZW      1  United States  California  Los Angeles     90028   \n",
       "9  8665-UTDHZ      1  United States  California  Los Angeles     90029   \n",
       "\n",
       "                 Lat Long   Latitude   Longitude  Gender Senior Citizen  \\\n",
       "0  33.964131, -118.272783  33.964131 -118.272783    Male             No   \n",
       "1   34.059281, -118.30742  34.059281 -118.307420  Female             No   \n",
       "2  34.048013, -118.293953  34.048013 -118.293953  Female             No   \n",
       "3  34.062125, -118.315709  34.062125 -118.315709  Female             No   \n",
       "4  34.039224, -118.266293  34.039224 -118.266293    Male             No   \n",
       "5  34.066367, -118.309868  34.066367 -118.309868  Female             No   \n",
       "6   34.02381, -118.156582  34.023810 -118.156582    Male            Yes   \n",
       "7  34.066303, -118.435479  34.066303 -118.435479    Male             No   \n",
       "8  34.099869, -118.326843  34.099869 -118.326843    Male             No   \n",
       "9  34.089953, -118.294824  34.089953 -118.294824    Male             No   \n",
       "\n",
       "  Partner Dependents  Tenure Months Phone Service    Multiple Lines  \\\n",
       "0      No         No              2           Yes                No   \n",
       "1      No        Yes              2           Yes                No   \n",
       "2      No        Yes              8           Yes               Yes   \n",
       "3     Yes        Yes             28           Yes               Yes   \n",
       "4      No        Yes             49           Yes               Yes   \n",
       "5     Yes         No             10           Yes                No   \n",
       "6      No         No              1            No  No phone service   \n",
       "7      No         No              1           Yes                No   \n",
       "8     Yes        Yes             47           Yes               Yes   \n",
       "9     Yes         No              1            No  No phone service   \n",
       "\n",
       "  Internet Service      Online Security        Online Backup  \\\n",
       "0              DSL                  Yes                  Yes   \n",
       "1      Fiber optic                   No                   No   \n",
       "2      Fiber optic                   No                   No   \n",
       "3      Fiber optic                   No                   No   \n",
       "4      Fiber optic                   No                  Yes   \n",
       "5              DSL                   No                   No   \n",
       "6              DSL                   No                   No   \n",
       "7               No  No internet service  No internet service   \n",
       "8      Fiber optic                   No                  Yes   \n",
       "9              DSL                   No                  Yes   \n",
       "\n",
       "     Device Protection         Tech Support         Streaming TV  \\\n",
       "0                   No                   No                   No   \n",
       "1                   No                   No                   No   \n",
       "2                  Yes                   No                  Yes   \n",
       "3                  Yes                  Yes                  Yes   \n",
       "4                  Yes                   No                  Yes   \n",
       "5                  Yes                  Yes                   No   \n",
       "6                  Yes                   No                   No   \n",
       "7  No internet service  No internet service  No internet service   \n",
       "8                   No                   No                  Yes   \n",
       "9                   No                   No                   No   \n",
       "\n",
       "      Streaming Movies        Contract Paperless Billing  \\\n",
       "0                   No  Month-to-month               Yes   \n",
       "1                   No  Month-to-month               Yes   \n",
       "2                  Yes  Month-to-month               Yes   \n",
       "3                  Yes  Month-to-month               Yes   \n",
       "4                  Yes  Month-to-month               Yes   \n",
       "5                   No  Month-to-month                No   \n",
       "6                  Yes  Month-to-month               Yes   \n",
       "7  No internet service  Month-to-month                No   \n",
       "8                  Yes  Month-to-month               Yes   \n",
       "9                   No  Month-to-month                No   \n",
       "\n",
       "              Payment Method  Monthly Charges Total Charges Churn Label  \\\n",
       "0               Mailed check            53.85        108.15         Yes   \n",
       "1           Electronic check            70.70        151.65         Yes   \n",
       "2           Electronic check            99.65         820.5         Yes   \n",
       "3           Electronic check           104.80       3046.05         Yes   \n",
       "4  Bank transfer (automatic)           103.70        5036.3         Yes   \n",
       "5    Credit card (automatic)            55.20        528.35         Yes   \n",
       "6           Electronic check            39.65         39.65         Yes   \n",
       "7               Mailed check            20.15         20.15         Yes   \n",
       "8           Electronic check            99.35       4749.15         Yes   \n",
       "9           Electronic check            30.20          30.2         Yes   \n",
       "\n",
       "   Churn Value  Churn Score  CLTV                               Churn Reason  \n",
       "0            1           86  3239               Competitor made better offer  \n",
       "1            1           67  2701                                      Moved  \n",
       "2            1           86  5372                                      Moved  \n",
       "3            1           84  5003                                      Moved  \n",
       "4            1           89  5340              Competitor had better devices  \n",
       "5            1           78  5925  Competitor offered higher download speeds  \n",
       "6            1          100  5433               Competitor offered more data  \n",
       "7            1           92  4832               Competitor made better offer  \n",
       "8            1           77  5789              Competitor had better devices  \n",
       "9            1           97  2915              Competitor had better devices  "
      ]
     },
     "execution_count": 215,
     "metadata": {},
     "output_type": "execute_result"
    }
   ],
   "source": [
    "dataset.head(n=10)"
   ]
  },
  {
   "cell_type": "code",
   "execution_count": 216,
   "id": "dynamic-preview",
   "metadata": {},
   "outputs": [
    {
     "name": "stdout",
     "output_type": "stream",
     "text": [
      "<class 'pandas.core.frame.DataFrame'>\n",
      "RangeIndex: 7043 entries, 0 to 7042\n",
      "Data columns (total 33 columns):\n",
      " #   Column             Non-Null Count  Dtype  \n",
      "---  ------             --------------  -----  \n",
      " 0   CustomerID         7043 non-null   object \n",
      " 1   Count              7043 non-null   int64  \n",
      " 2   Country            7043 non-null   object \n",
      " 3   State              7043 non-null   object \n",
      " 4   City               7043 non-null   object \n",
      " 5   Zip Code           7043 non-null   int64  \n",
      " 6   Lat Long           7043 non-null   object \n",
      " 7   Latitude           7043 non-null   float64\n",
      " 8   Longitude          7043 non-null   float64\n",
      " 9   Gender             7043 non-null   object \n",
      " 10  Senior Citizen     7043 non-null   object \n",
      " 11  Partner            7043 non-null   object \n",
      " 12  Dependents         7043 non-null   object \n",
      " 13  Tenure Months      7043 non-null   int64  \n",
      " 14  Phone Service      7043 non-null   object \n",
      " 15  Multiple Lines     7043 non-null   object \n",
      " 16  Internet Service   7043 non-null   object \n",
      " 17  Online Security    7043 non-null   object \n",
      " 18  Online Backup      7043 non-null   object \n",
      " 19  Device Protection  7043 non-null   object \n",
      " 20  Tech Support       7043 non-null   object \n",
      " 21  Streaming TV       7043 non-null   object \n",
      " 22  Streaming Movies   7043 non-null   object \n",
      " 23  Contract           7043 non-null   object \n",
      " 24  Paperless Billing  7043 non-null   object \n",
      " 25  Payment Method     7043 non-null   object \n",
      " 26  Monthly Charges    7043 non-null   float64\n",
      " 27  Total Charges      7043 non-null   object \n",
      " 28  Churn Label        7043 non-null   object \n",
      " 29  Churn Value        7043 non-null   int64  \n",
      " 30  Churn Score        7043 non-null   int64  \n",
      " 31  CLTV               7043 non-null   int64  \n",
      " 32  Churn Reason       1869 non-null   object \n",
      "dtypes: float64(3), int64(6), object(24)\n",
      "memory usage: 1.8+ MB\n"
     ]
    }
   ],
   "source": [
    "dataset.info()"
   ]
  },
  {
   "cell_type": "markdown",
   "id": "statutory-swing",
   "metadata": {},
   "source": [
    "### We can see the type column of \"Total Charges\" is as an integer but it should be float type so we transform it"
   ]
  },
  {
   "cell_type": "code",
   "execution_count": 217,
   "id": "european-turkey",
   "metadata": {},
   "outputs": [],
   "source": [
    "dataset['Total Charges'] = pd.to_numeric(dataset['Total Charges'],errors='coerce')\n",
    "dataset['Total Charges'] = dataset['Total Charges'].astype(\"float\")"
   ]
  },
  {
   "cell_type": "code",
   "execution_count": 218,
   "id": "instrumental-monitor",
   "metadata": {},
   "outputs": [
    {
     "data": {
      "text/plain": [
       "CustomerID           False\n",
       "Count                False\n",
       "Country              False\n",
       "State                False\n",
       "City                 False\n",
       "Zip Code             False\n",
       "Lat Long             False\n",
       "Latitude             False\n",
       "Longitude            False\n",
       "Gender               False\n",
       "Senior Citizen       False\n",
       "Partner              False\n",
       "Dependents           False\n",
       "Tenure Months        False\n",
       "Phone Service        False\n",
       "Multiple Lines       False\n",
       "Internet Service     False\n",
       "Online Security      False\n",
       "Online Backup        False\n",
       "Device Protection    False\n",
       "Tech Support         False\n",
       "Streaming TV         False\n",
       "Streaming Movies     False\n",
       "Contract             False\n",
       "Paperless Billing    False\n",
       "Payment Method       False\n",
       "Monthly Charges      False\n",
       "Total Charges         True\n",
       "Churn Label          False\n",
       "Churn Value          False\n",
       "Churn Score          False\n",
       "CLTV                 False\n",
       "Churn Reason          True\n",
       "dtype: bool"
      ]
     },
     "execution_count": 218,
     "metadata": {},
     "output_type": "execute_result"
    }
   ],
   "source": [
    "dataset.isna().any()"
   ]
  },
  {
   "cell_type": "markdown",
   "id": "behind-nowhere",
   "metadata": {},
   "source": [
    "### Transforming the data type created errors so lets imputate the mean of the column to fix them"
   ]
  },
  {
   "cell_type": "code",
   "execution_count": 219,
   "id": "otherwise-friendship",
   "metadata": {},
   "outputs": [],
   "source": [
    "na_cols = dataset.isna().any()\n",
    "na_cols = na_cols[na_cols == True].reset_index()\n",
    "na_cols = na_cols[\"index\"].tolist()\n",
    "for col in dataset.columns[1:]:\n",
    "     if col in na_cols:\n",
    "        if dataset[col].dtype != 'object':\n",
    "             dataset[col] =  dataset[col].fillna(dataset[col].mean()).round(0)"
   ]
  },
  {
   "cell_type": "code",
   "execution_count": 220,
   "id": "literary-tenant",
   "metadata": {},
   "outputs": [
    {
     "data": {
      "text/plain": [
       "CustomerID           False\n",
       "Count                False\n",
       "Country              False\n",
       "State                False\n",
       "City                 False\n",
       "Zip Code             False\n",
       "Lat Long             False\n",
       "Latitude             False\n",
       "Longitude            False\n",
       "Gender               False\n",
       "Senior Citizen       False\n",
       "Partner              False\n",
       "Dependents           False\n",
       "Tenure Months        False\n",
       "Phone Service        False\n",
       "Multiple Lines       False\n",
       "Internet Service     False\n",
       "Online Security      False\n",
       "Online Backup        False\n",
       "Device Protection    False\n",
       "Tech Support         False\n",
       "Streaming TV         False\n",
       "Streaming Movies     False\n",
       "Contract             False\n",
       "Paperless Billing    False\n",
       "Payment Method       False\n",
       "Monthly Charges      False\n",
       "Total Charges        False\n",
       "Churn Label          False\n",
       "Churn Value          False\n",
       "Churn Score          False\n",
       "CLTV                 False\n",
       "Churn Reason          True\n",
       "dtype: bool"
      ]
     },
     "execution_count": 220,
     "metadata": {},
     "output_type": "execute_result"
    }
   ],
   "source": [
    "dataset.isna().any()"
   ]
  },
  {
   "cell_type": "markdown",
   "id": "neutral-stereo",
   "metadata": {},
   "source": [
    "### We dont need these columns so we just drop them"
   ]
  },
  {
   "cell_type": "code",
   "execution_count": 221,
   "id": "suitable-genome",
   "metadata": {},
   "outputs": [],
   "source": [
    "dataset.drop(dataset[['Churn Score', 'Churn Reason']],axis=1, inplace=True)"
   ]
  },
  {
   "cell_type": "markdown",
   "id": "honey-elevation",
   "metadata": {},
   "source": [
    "### FInally we end up with these columns"
   ]
  },
  {
   "cell_type": "code",
   "execution_count": 222,
   "id": "handled-salon",
   "metadata": {},
   "outputs": [
    {
     "data": {
      "text/plain": [
       "Index(['CustomerID', 'Count', 'Country', 'State', 'City', 'Zip Code',\n",
       "       'Lat Long', 'Latitude', 'Longitude', 'Gender', 'Senior Citizen',\n",
       "       'Partner', 'Dependents', 'Tenure Months', 'Phone Service',\n",
       "       'Multiple Lines', 'Internet Service', 'Online Security',\n",
       "       'Online Backup', 'Device Protection', 'Tech Support', 'Streaming TV',\n",
       "       'Streaming Movies', 'Contract', 'Paperless Billing', 'Payment Method',\n",
       "       'Monthly Charges', 'Total Charges', 'Churn Label', 'Churn Value',\n",
       "       'CLTV'],\n",
       "      dtype='object')"
      ]
     },
     "execution_count": 222,
     "metadata": {},
     "output_type": "execute_result"
    }
   ],
   "source": [
    "dataset.columns"
   ]
  },
  {
   "cell_type": "markdown",
   "id": "meaningful-mailing",
   "metadata": {},
   "source": [
    "## Visualization"
   ]
  },
  {
   "cell_type": "markdown",
   "id": "behind-commons",
   "metadata": {},
   "source": [
    "### Categorial univariate analysis"
   ]
  },
  {
   "cell_type": "code",
   "execution_count": 223,
   "id": "described-prefix",
   "metadata": {},
   "outputs": [],
   "source": [
    "Univariate = dataset[['Gender', 'Senior Citizen', 'Partner', 'Dependents', 'Phone Service', 'Paperless Billing']]"
   ]
  },
  {
   "cell_type": "code",
   "execution_count": 224,
   "id": "million-advantage",
   "metadata": {},
   "outputs": [
    {
     "data": {
      "image/png": "[encoded data removed]",
      "text/plain": [
       "<Figure size 720x288 with 1 Axes>"
      ]
     },
     "metadata": {
      "needs_background": "light"
     },
     "output_type": "display_data"
    },
    {
     "data": {
      "image/png": "[encoded data removed]",
      "text/plain": [
       "<Figure size 720x288 with 1 Axes>"
      ]
     },
     "metadata": {
      "needs_background": "light"
     },
     "output_type": "display_data"
    },
    {
     "data": {
      "image/png": "[encoded data removed]",
      "text/plain": [
       "<Figure size 720x288 with 1 Axes>"
      ]
     },
     "metadata": {
      "needs_background": "light"
     },
     "output_type": "display_data"
    },
    {
     "data": {
      "image/png": "[encoded data removed]",
      "text/plain": [
       "<Figure size 720x288 with 1 Axes>"
      ]
     },
     "metadata": {
      "needs_background": "light"
     },
     "output_type": "display_data"
    },
    {
     "data": {
      "image/png": "[encoded data removed]",
      "text/plain": [
       "<Figure size 720x288 with 1 Axes>"
      ]
     },
     "metadata": {
      "needs_background": "light"
     },
     "output_type": "display_data"
    },
    {
     "data": {
      "image/png": "[encoded data removed]",
      "text/plain": [
       "<Figure size 720x288 with 1 Axes>"
      ]
     },
     "metadata": {
      "needs_background": "light"
     },
     "output_type": "display_data"
    }
   ],
   "source": [
    "for col in Univariate:\n",
    "    plt.figure(figsize=(10, 4))\n",
    "    plt.title(col)\n",
    "    ax = sns.countplot(data=dataset, x=col, palette= 'GnBu', hue= 'Churn Label')\n",
    "    plt.show()"
   ]
  },
  {
   "cell_type": "markdown",
   "id": "respective-making",
   "metadata": {},
   "source": [
    "### Categorical Multivariate Analysis"
   ]
  },
  {
   "cell_type": "code",
   "execution_count": 225,
   "id": "statewide-cherry",
   "metadata": {},
   "outputs": [],
   "source": [
    "Multivariate = dataset[['Streaming TV', 'Streaming Movies', 'Online Security', 'Online Backup', 'Device Protection', 'Tech Support', 'Multiple Lines', 'Contract', 'Payment Method']]"
   ]
  },
  {
   "cell_type": "code",
   "execution_count": 226,
   "id": "religious-revolution",
   "metadata": {},
   "outputs": [
    {
     "data": {
      "image/png": "[encoded data removed]",
      "text/plain": [
       "<Figure size 720x288 with 1 Axes>"
      ]
     },
     "metadata": {
      "needs_background": "light"
     },
     "output_type": "display_data"
    },
    {
     "data": {
      "image/png": "[encoded data removed]",
      "text/plain": [
       "<Figure size 720x288 with 1 Axes>"
      ]
     },
     "metadata": {
      "needs_background": "light"
     },
     "output_type": "display_data"
    },
    {
     "data": {
      "image/png": "[encoded data removed]",
      "text/plain": [
       "<Figure size 720x288 with 1 Axes>"
      ]
     },
     "metadata": {
      "needs_background": "light"
     },
     "output_type": "display_data"
    },
    {
     "data": {
      "image/png": "[encoded data removed]",
      "text/plain": [
       "<Figure size 720x288 with 1 Axes>"
      ]
     },
     "metadata": {
      "needs_background": "light"
     },
     "output_type": "display_data"
    },
    {
     "data": {
      "image/png": "[encoded data removed]",
      "text/plain": [
       "<Figure size 720x288 with 1 Axes>"
      ]
     },
     "metadata": {
      "needs_background": "light"
     },
     "output_type": "display_data"
    },
    {
     "data": {
      "image/png": "[encoded data removed]",
      "text/plain": [
       "<Figure size 720x288 with 1 Axes>"
      ]
     },
     "metadata": {
      "needs_background": "light"
     },
     "output_type": "display_data"
    },
    {
     "data": {
      "image/png": "[encoded data removed]",
      "text/plain": [
       "<Figure size 720x288 with 1 Axes>"
      ]
     },
     "metadata": {
      "needs_background": "light"
     },
     "output_type": "display_data"
    },
    {
     "data": {
      "image/png": "[encoded data removed]",
      "text/plain": [
       "<Figure size 720x288 with 1 Axes>"
      ]
     },
     "metadata": {
      "needs_background": "light"
     },
     "output_type": "display_data"
    },
    {
     "data": {
      "image/png": "[encoded data removed]",
      "text/plain": [
       "<Figure size 720x288 with 1 Axes>"
      ]
     },
     "metadata": {
      "needs_background": "light"
     },
     "output_type": "display_data"
    }
   ],
   "source": [
    "for col in Multivariate:\n",
    "    plt.figure(figsize=(10, 4))\n",
    "    plt.title(col)\n",
    "    ax = sns.countplot(data=dataset, x=col, palette= 'GnBu', hue= 'Churn Label')\n",
    "    plt.show()"
   ]
  },
  {
   "cell_type": "markdown",
   "id": "failing-annotation",
   "metadata": {},
   "source": [
    "### Continuous Variable Analysis"
   ]
  },
  {
   "cell_type": "code",
   "execution_count": 227,
   "id": "spread-oxide",
   "metadata": {},
   "outputs": [],
   "source": [
    "Continuous = dataset[['Tenure Months', 'Total Charges', 'Monthly Charges']]"
   ]
  },
  {
   "cell_type": "code",
   "execution_count": 228,
   "id": "subtle-relations",
   "metadata": {},
   "outputs": [
    {
     "name": "stderr",
     "output_type": "stream",
     "text": [
      "C:\\Users\\oscar\\Anaconda3\\lib\\site-packages\\seaborn\\distributions.py:2557: FutureWarning: `distplot` is a deprecated function and will be removed in a future version. Please adapt your code to use either `displot` (a figure-level function with similar flexibility) or `histplot` (an axes-level function for histograms).\n",
      "  warnings.warn(msg, FutureWarning)\n"
     ]
    },
    {
     "data": {
      "text/plain": [
       "[Text(0, 0.5, 'Churn Percentage')]"
      ]
     },
     "execution_count": 228,
     "metadata": {},
     "output_type": "execute_result"
    },
    {
     "data": {
      "image/png": "[encoded data removed]",
      "text/plain": [
       "<Figure size 864x576 with 1 Axes>"
      ]
     },
     "metadata": {
      "needs_background": "light"
     },
     "output_type": "display_data"
    }
   ],
   "source": [
    "plt.figure(figsize=(12,8))\n",
    "\n",
    "ax=sns.distplot(dataset['Monthly Charges'],  color= 'xkcd:sky blue')\n",
    "ax.set(ylabel = \"Churn Percentage\")"
   ]
  },
  {
   "cell_type": "code",
   "execution_count": 229,
   "id": "reserved-gates",
   "metadata": {},
   "outputs": [
    {
     "name": "stderr",
     "output_type": "stream",
     "text": [
      "C:\\Users\\oscar\\Anaconda3\\lib\\site-packages\\seaborn\\distributions.py:2557: FutureWarning: `distplot` is a deprecated function and will be removed in a future version. Please adapt your code to use either `displot` (a figure-level function with similar flexibility) or `histplot` (an axes-level function for histograms).\n",
      "  warnings.warn(msg, FutureWarning)\n"
     ]
    },
    {
     "data": {
      "text/plain": [
       "[Text(0, 0.5, 'Churn Percentage')]"
      ]
     },
     "execution_count": 229,
     "metadata": {},
     "output_type": "execute_result"
    },
    {
     "data": {
      "image/png": "[encoded data removed]",
      "text/plain": [
       "<Figure size 864x576 with 1 Axes>"
      ]
     },
     "metadata": {
      "needs_background": "light"
     },
     "output_type": "display_data"
    }
   ],
   "source": [
    "plt.figure(figsize=(12,8))\n",
    "\n",
    "ax=sns.distplot(dataset['Total Charges'],  color= 'xkcd:sky blue')\n",
    "ax.set(ylabel = \"Churn Percentage\")"
   ]
  },
  {
   "cell_type": "code",
   "execution_count": 230,
   "id": "wrapped-metro",
   "metadata": {},
   "outputs": [
    {
     "name": "stderr",
     "output_type": "stream",
     "text": [
      "C:\\Users\\oscar\\Anaconda3\\lib\\site-packages\\seaborn\\distributions.py:2557: FutureWarning: `distplot` is a deprecated function and will be removed in a future version. Please adapt your code to use either `displot` (a figure-level function with similar flexibility) or `histplot` (an axes-level function for histograms).\n",
      "  warnings.warn(msg, FutureWarning)\n"
     ]
    },
    {
     "data": {
      "text/plain": [
       "[Text(0, 0.5, 'Churn Percentage')]"
      ]
     },
     "execution_count": 230,
     "metadata": {},
     "output_type": "execute_result"
    },
    {
     "data": {
      "image/png": "[encoded data removed]",
      "text/plain": [
       "<Figure size 864x576 with 1 Axes>"
      ]
     },
     "metadata": {
      "needs_background": "light"
     },
     "output_type": "display_data"
    }
   ],
   "source": [
    "plt.figure(figsize=(12,8))\n",
    "\n",
    "ax=sns.distplot(dataset['Tenure Months'],  color= 'xkcd:sky blue')\n",
    "ax.set(ylabel = \"Churn Percentage\")"
   ]
  },
  {
   "cell_type": "code",
   "execution_count": 231,
   "id": "closed-vertex",
   "metadata": {},
   "outputs": [],
   "source": [
    "# creating instance of labelencoder\n",
    "labelencoder = LabelEncoder()\n",
    "# Assigning numerical values and storing in another column\n",
    "dataset['Gender'] = labelencoder.fit_transform(dataset['Gender'])\n",
    "dataset['Senior Citizen'] = labelencoder.fit_transform(dataset['Senior Citizen'])\n",
    "dataset['Partner'] = labelencoder.fit_transform(dataset['Partner'])\n",
    "dataset['Dependents'] = labelencoder.fit_transform(dataset['Dependents'])\n",
    "dataset['Phone Service'] = labelencoder.fit_transform(dataset['Phone Service'])\n",
    "dataset['Paperless Billing'] = labelencoder.fit_transform(dataset['Paperless Billing'])"
   ]
  },
  {
   "cell_type": "markdown",
   "id": "intense-portfolio",
   "metadata": {},
   "source": [
    "### Correlation between variables"
   ]
  },
  {
   "cell_type": "code",
   "execution_count": 232,
   "id": "disabled-poetry",
   "metadata": {},
   "outputs": [
    {
     "data": {
      "text/plain": [
       "Text(0, 0.5, 'Churn Correlation')"
      ]
     },
     "execution_count": 232,
     "metadata": {},
     "output_type": "execute_result"
    },
    {
     "data": {
      "image/png": "[encoded data removed]",
      "text/plain": [
       "<Figure size 432x288 with 1 Axes>"
      ]
     },
     "metadata": {
      "needs_background": "light"
     },
     "output_type": "display_data"
    }
   ],
   "source": [
    "dataset2=dataset[['Gender','Senior Citizen', 'Partner','Dependents','Phone Service', 'Paperless Billing', 'Tenure Months', 'Monthly Charges','Total Charges']]\n",
    "\n",
    "\n",
    "\n",
    "correlations = dataset2.corrwith(dataset['Churn Value'])\n",
    "\n",
    "correlations.plot.bar(color= 'c', rot=45)\n",
    "\n",
    "plt.ylabel(\"Churn Correlation\")\n"
   ]
  },
  {
   "cell_type": "markdown",
   "id": "challenging-border",
   "metadata": {},
   "source": [
    "### Heatmap "
   ]
  },
  {
   "cell_type": "code",
   "execution_count": 233,
   "id": "logical-surrey",
   "metadata": {},
   "outputs": [
    {
     "data": {
      "image/png": "[encoded data removed]",
      "text/plain": [
       "<Figure size 432x288 with 2 Axes>"
      ]
     },
     "metadata": {
      "needs_background": "light"
     },
     "output_type": "display_data"
    }
   ],
   "source": [
    "data = dataset2.corr()\n",
    "\n",
    "ax = sns.heatmap(\n",
    "    data, \n",
    "    vmin=-1, vmax=1, center=0,\n",
    "    cmap=sns.diverging_palette(20, 220, n=200),\n",
    "    square=True\n",
    ")\n",
    "ax.set_xticklabels(\n",
    "    ax.get_xticklabels(),\n",
    "    rotation=45,\n",
    "    horizontalalignment='right'\n",
    ");"
   ]
  },
  {
   "cell_type": "code",
   "execution_count": 234,
   "id": "knowing-closure",
   "metadata": {},
   "outputs": [
    {
     "data": {
      "text/html": [
       "<div>\n",
       "<style scoped>\n",
       "    .dataframe tbody tr th:only-of-type {\n",
       "        vertical-align: middle;\n",
       "    }\n",
       "\n",
       "    .dataframe tbody tr th {\n",
       "        vertical-align: top;\n",
       "    }\n",
       "\n",
       "    .dataframe thead th {\n",
       "        text-align: right;\n",
       "    }\n",
       "</style>\n",
       "<table border=\"1\" class=\"dataframe\">\n",
       "  <thead>\n",
       "    <tr style=\"text-align: right;\">\n",
       "      <th></th>\n",
       "      <th>CustomerID</th>\n",
       "      <th>Count</th>\n",
       "      <th>Country</th>\n",
       "      <th>State</th>\n",
       "      <th>City</th>\n",
       "      <th>Zip Code</th>\n",
       "      <th>Lat Long</th>\n",
       "      <th>Latitude</th>\n",
       "      <th>Longitude</th>\n",
       "      <th>Gender</th>\n",
       "      <th>Senior Citizen</th>\n",
       "      <th>Partner</th>\n",
       "      <th>Dependents</th>\n",
       "      <th>Tenure Months</th>\n",
       "      <th>Phone Service</th>\n",
       "      <th>Multiple Lines</th>\n",
       "      <th>Internet Service</th>\n",
       "      <th>Online Security</th>\n",
       "      <th>Online Backup</th>\n",
       "      <th>Device Protection</th>\n",
       "      <th>Tech Support</th>\n",
       "      <th>Streaming TV</th>\n",
       "      <th>Streaming Movies</th>\n",
       "      <th>Contract</th>\n",
       "      <th>Paperless Billing</th>\n",
       "      <th>Payment Method</th>\n",
       "      <th>Monthly Charges</th>\n",
       "      <th>Total Charges</th>\n",
       "      <th>Churn Label</th>\n",
       "      <th>Churn Value</th>\n",
       "      <th>CLTV</th>\n",
       "    </tr>\n",
       "  </thead>\n",
       "  <tbody>\n",
       "    <tr>\n",
       "      <th>0</th>\n",
       "      <td>3668-QPYBK</td>\n",
       "      <td>1</td>\n",
       "      <td>United States</td>\n",
       "      <td>California</td>\n",
       "      <td>Los Angeles</td>\n",
       "      <td>90003</td>\n",
       "      <td>33.964131, -118.272783</td>\n",
       "      <td>33.964131</td>\n",
       "      <td>-118.272783</td>\n",
       "      <td>1</td>\n",
       "      <td>0</td>\n",
       "      <td>0</td>\n",
       "      <td>0</td>\n",
       "      <td>2</td>\n",
       "      <td>1</td>\n",
       "      <td>No</td>\n",
       "      <td>DSL</td>\n",
       "      <td>Yes</td>\n",
       "      <td>Yes</td>\n",
       "      <td>No</td>\n",
       "      <td>No</td>\n",
       "      <td>No</td>\n",
       "      <td>No</td>\n",
       "      <td>Month-to-month</td>\n",
       "      <td>1</td>\n",
       "      <td>Mailed check</td>\n",
       "      <td>53.85</td>\n",
       "      <td>108.0</td>\n",
       "      <td>Yes</td>\n",
       "      <td>1</td>\n",
       "      <td>3239</td>\n",
       "    </tr>\n",
       "    <tr>\n",
       "      <th>1</th>\n",
       "      <td>9237-HQITU</td>\n",
       "      <td>1</td>\n",
       "      <td>United States</td>\n",
       "      <td>California</td>\n",
       "      <td>Los Angeles</td>\n",
       "      <td>90005</td>\n",
       "      <td>34.059281, -118.30742</td>\n",
       "      <td>34.059281</td>\n",
       "      <td>-118.307420</td>\n",
       "      <td>0</td>\n",
       "      <td>0</td>\n",
       "      <td>0</td>\n",
       "      <td>1</td>\n",
       "      <td>2</td>\n",
       "      <td>1</td>\n",
       "      <td>No</td>\n",
       "      <td>Fiber optic</td>\n",
       "      <td>No</td>\n",
       "      <td>No</td>\n",
       "      <td>No</td>\n",
       "      <td>No</td>\n",
       "      <td>No</td>\n",
       "      <td>No</td>\n",
       "      <td>Month-to-month</td>\n",
       "      <td>1</td>\n",
       "      <td>Electronic check</td>\n",
       "      <td>70.70</td>\n",
       "      <td>152.0</td>\n",
       "      <td>Yes</td>\n",
       "      <td>1</td>\n",
       "      <td>2701</td>\n",
       "    </tr>\n",
       "    <tr>\n",
       "      <th>2</th>\n",
       "      <td>9305-CDSKC</td>\n",
       "      <td>1</td>\n",
       "      <td>United States</td>\n",
       "      <td>California</td>\n",
       "      <td>Los Angeles</td>\n",
       "      <td>90006</td>\n",
       "      <td>34.048013, -118.293953</td>\n",
       "      <td>34.048013</td>\n",
       "      <td>-118.293953</td>\n",
       "      <td>0</td>\n",
       "      <td>0</td>\n",
       "      <td>0</td>\n",
       "      <td>1</td>\n",
       "      <td>8</td>\n",
       "      <td>1</td>\n",
       "      <td>Yes</td>\n",
       "      <td>Fiber optic</td>\n",
       "      <td>No</td>\n",
       "      <td>No</td>\n",
       "      <td>Yes</td>\n",
       "      <td>No</td>\n",
       "      <td>Yes</td>\n",
       "      <td>Yes</td>\n",
       "      <td>Month-to-month</td>\n",
       "      <td>1</td>\n",
       "      <td>Electronic check</td>\n",
       "      <td>99.65</td>\n",
       "      <td>820.0</td>\n",
       "      <td>Yes</td>\n",
       "      <td>1</td>\n",
       "      <td>5372</td>\n",
       "    </tr>\n",
       "    <tr>\n",
       "      <th>3</th>\n",
       "      <td>7892-POOKP</td>\n",
       "      <td>1</td>\n",
       "      <td>United States</td>\n",
       "      <td>California</td>\n",
       "      <td>Los Angeles</td>\n",
       "      <td>90010</td>\n",
       "      <td>34.062125, -118.315709</td>\n",
       "      <td>34.062125</td>\n",
       "      <td>-118.315709</td>\n",
       "      <td>0</td>\n",
       "      <td>0</td>\n",
       "      <td>1</td>\n",
       "      <td>1</td>\n",
       "      <td>28</td>\n",
       "      <td>1</td>\n",
       "      <td>Yes</td>\n",
       "      <td>Fiber optic</td>\n",
       "      <td>No</td>\n",
       "      <td>No</td>\n",
       "      <td>Yes</td>\n",
       "      <td>Yes</td>\n",
       "      <td>Yes</td>\n",
       "      <td>Yes</td>\n",
       "      <td>Month-to-month</td>\n",
       "      <td>1</td>\n",
       "      <td>Electronic check</td>\n",
       "      <td>104.80</td>\n",
       "      <td>3046.0</td>\n",
       "      <td>Yes</td>\n",
       "      <td>1</td>\n",
       "      <td>5003</td>\n",
       "    </tr>\n",
       "    <tr>\n",
       "      <th>4</th>\n",
       "      <td>0280-XJGEX</td>\n",
       "      <td>1</td>\n",
       "      <td>United States</td>\n",
       "      <td>California</td>\n",
       "      <td>Los Angeles</td>\n",
       "      <td>90015</td>\n",
       "      <td>34.039224, -118.266293</td>\n",
       "      <td>34.039224</td>\n",
       "      <td>-118.266293</td>\n",
       "      <td>1</td>\n",
       "      <td>0</td>\n",
       "      <td>0</td>\n",
       "      <td>1</td>\n",
       "      <td>49</td>\n",
       "      <td>1</td>\n",
       "      <td>Yes</td>\n",
       "      <td>Fiber optic</td>\n",
       "      <td>No</td>\n",
       "      <td>Yes</td>\n",
       "      <td>Yes</td>\n",
       "      <td>No</td>\n",
       "      <td>Yes</td>\n",
       "      <td>Yes</td>\n",
       "      <td>Month-to-month</td>\n",
       "      <td>1</td>\n",
       "      <td>Bank transfer (automatic)</td>\n",
       "      <td>103.70</td>\n",
       "      <td>5036.0</td>\n",
       "      <td>Yes</td>\n",
       "      <td>1</td>\n",
       "      <td>5340</td>\n",
       "    </tr>\n",
       "  </tbody>\n",
       "</table>\n",
       "</div>"
      ],
      "text/plain": [
       "   CustomerID  Count        Country       State         City  Zip Code  \\\n",
       "0  3668-QPYBK      1  United States  California  Los Angeles     90003   \n",
       "1  9237-HQITU      1  United States  California  Los Angeles     90005   \n",
       "2  9305-CDSKC      1  United States  California  Los Angeles     90006   \n",
       "3  7892-POOKP      1  United States  California  Los Angeles     90010   \n",
       "4  0280-XJGEX      1  United States  California  Los Angeles     90015   \n",
       "\n",
       "                 Lat Long   Latitude   Longitude  Gender  Senior Citizen  \\\n",
       "0  33.964131, -118.272783  33.964131 -118.272783       1               0   \n",
       "1   34.059281, -118.30742  34.059281 -118.307420       0               0   \n",
       "2  34.048013, -118.293953  34.048013 -118.293953       0               0   \n",
       "3  34.062125, -118.315709  34.062125 -118.315709       0               0   \n",
       "4  34.039224, -118.266293  34.039224 -118.266293       1               0   \n",
       "\n",
       "   Partner  Dependents  Tenure Months  Phone Service Multiple Lines  \\\n",
       "0        0           0              2              1             No   \n",
       "1        0           1              2              1             No   \n",
       "2        0           1              8              1            Yes   \n",
       "3        1           1             28              1            Yes   \n",
       "4        0           1             49              1            Yes   \n",
       "\n",
       "  Internet Service Online Security Online Backup Device Protection  \\\n",
       "0              DSL             Yes           Yes                No   \n",
       "1      Fiber optic              No            No                No   \n",
       "2      Fiber optic              No            No               Yes   \n",
       "3      Fiber optic              No            No               Yes   \n",
       "4      Fiber optic              No           Yes               Yes   \n",
       "\n",
       "  Tech Support Streaming TV Streaming Movies        Contract  \\\n",
       "0           No           No               No  Month-to-month   \n",
       "1           No           No               No  Month-to-month   \n",
       "2           No          Yes              Yes  Month-to-month   \n",
       "3          Yes          Yes              Yes  Month-to-month   \n",
       "4           No          Yes              Yes  Month-to-month   \n",
       "\n",
       "   Paperless Billing             Payment Method  Monthly Charges  \\\n",
       "0                  1               Mailed check            53.85   \n",
       "1                  1           Electronic check            70.70   \n",
       "2                  1           Electronic check            99.65   \n",
       "3                  1           Electronic check           104.80   \n",
       "4                  1  Bank transfer (automatic)           103.70   \n",
       "\n",
       "   Total Charges Churn Label  Churn Value  CLTV  \n",
       "0          108.0         Yes            1  3239  \n",
       "1          152.0         Yes            1  2701  \n",
       "2          820.0         Yes            1  5372  \n",
       "3         3046.0         Yes            1  5003  \n",
       "4         5036.0         Yes            1  5340  "
      ]
     },
     "execution_count": 234,
     "metadata": {},
     "output_type": "execute_result"
    }
   ],
   "source": [
    "dataset.head()"
   ]
  },
  {
   "cell_type": "code",
   "execution_count": 236,
   "id": "lasting-reservoir",
   "metadata": {},
   "outputs": [
    {
     "name": "stdout",
     "output_type": "stream",
     "text": [
      "      CustomerID  Count        Country       State          City  Zip Code  \\\n",
      "0     3668-QPYBK      1  United States  California   Los Angeles     90003   \n",
      "1     9237-HQITU      1  United States  California   Los Angeles     90005   \n",
      "2     9305-CDSKC      1  United States  California   Los Angeles     90006   \n",
      "3     7892-POOKP      1  United States  California   Los Angeles     90010   \n",
      "4     0280-XJGEX      1  United States  California   Los Angeles     90015   \n",
      "...          ...    ...            ...         ...           ...       ...   \n",
      "7038  2569-WGERO      1  United States  California       Landers     92285   \n",
      "7039  6840-RESVB      1  United States  California      Adelanto     92301   \n",
      "7040  2234-XADUH      1  United States  California         Amboy     92304   \n",
      "7041  4801-JZAZL      1  United States  California  Angelus Oaks     92305   \n",
      "7042  3186-AJIEK      1  United States  California  Apple Valley     92308   \n",
      "\n",
      "                    Lat Long   Latitude   Longitude  Gender  Senior Citizen  \\\n",
      "0     33.964131, -118.272783  33.964131 -118.272783       1               0   \n",
      "1      34.059281, -118.30742  34.059281 -118.307420       0               0   \n",
      "2     34.048013, -118.293953  34.048013 -118.293953       0               0   \n",
      "3     34.062125, -118.315709  34.062125 -118.315709       0               0   \n",
      "4     34.039224, -118.266293  34.039224 -118.266293       1               0   \n",
      "...                      ...        ...         ...     ...             ...   \n",
      "7038  34.341737, -116.539416  34.341737 -116.539416       0               0   \n",
      "7039  34.667815, -117.536183  34.667815 -117.536183       1               0   \n",
      "7040  34.559882, -115.637164  34.559882 -115.637164       0               0   \n",
      "7041     34.1678, -116.86433  34.167800 -116.864330       0               0   \n",
      "7042  34.424926, -117.184503  34.424926 -117.184503       1               0   \n",
      "\n",
      "      Partner  Dependents  Tenure Months  Phone Service    Multiple Lines  \\\n",
      "0           0           0              2              1                No   \n",
      "1           0           1              2              1                No   \n",
      "2           0           1              8              1               Yes   \n",
      "3           1           1             28              1               Yes   \n",
      "4           0           1             49              1               Yes   \n",
      "...       ...         ...            ...            ...               ...   \n",
      "7038        0           0             72              1                No   \n",
      "7039        1           1             24              1               Yes   \n",
      "7040        1           1             72              1               Yes   \n",
      "7041        1           1             11              0  No phone service   \n",
      "7042        0           0             66              1                No   \n",
      "\n",
      "     Internet Service      Online Security        Online Backup  \\\n",
      "0                 DSL                  Yes                  Yes   \n",
      "1         Fiber optic                   No                   No   \n",
      "2         Fiber optic                   No                   No   \n",
      "3         Fiber optic                   No                   No   \n",
      "4         Fiber optic                   No                  Yes   \n",
      "...               ...                  ...                  ...   \n",
      "7038               No  No internet service  No internet service   \n",
      "7039              DSL                  Yes                   No   \n",
      "7040      Fiber optic                   No                  Yes   \n",
      "7041              DSL                  Yes                   No   \n",
      "7042      Fiber optic                  Yes                   No   \n",
      "\n",
      "        Device Protection         Tech Support         Streaming TV  \\\n",
      "0                      No                   No                   No   \n",
      "1                      No                   No                   No   \n",
      "2                     Yes                   No                  Yes   \n",
      "3                     Yes                  Yes                  Yes   \n",
      "4                     Yes                   No                  Yes   \n",
      "...                   ...                  ...                  ...   \n",
      "7038  No internet service  No internet service  No internet service   \n",
      "7039                  Yes                  Yes                  Yes   \n",
      "7040                  Yes                   No                  Yes   \n",
      "7041                   No                   No                   No   \n",
      "7042                  Yes                  Yes                  Yes   \n",
      "\n",
      "         Streaming Movies        Contract  Paperless Billing  \\\n",
      "0                      No  Month-to-month                  1   \n",
      "1                      No  Month-to-month                  1   \n",
      "2                     Yes  Month-to-month                  1   \n",
      "3                     Yes  Month-to-month                  1   \n",
      "4                     Yes  Month-to-month                  1   \n",
      "...                   ...             ...                ...   \n",
      "7038  No internet service        Two year                  1   \n",
      "7039                  Yes        One year                  1   \n",
      "7040                  Yes        One year                  1   \n",
      "7041                   No  Month-to-month                  1   \n",
      "7042                  Yes        Two year                  1   \n",
      "\n",
      "                 Payment Method  Monthly Charges  Total Charges Churn Label  \\\n",
      "0                  Mailed check            53.85          108.0         Yes   \n",
      "1              Electronic check            70.70          152.0         Yes   \n",
      "2              Electronic check            99.65          820.0         Yes   \n",
      "3              Electronic check           104.80         3046.0         Yes   \n",
      "4     Bank transfer (automatic)           103.70         5036.0         Yes   \n",
      "...                         ...              ...            ...         ...   \n",
      "7038  Bank transfer (automatic)            21.15         1419.0          No   \n",
      "7039               Mailed check            84.80         1990.0          No   \n",
      "7040    Credit card (automatic)           103.20         7363.0          No   \n",
      "7041           Electronic check            29.60          346.0          No   \n",
      "7042  Bank transfer (automatic)           105.65         6844.0          No   \n",
      "\n",
      "      Churn Value  CLTV  \n",
      "0               1  3239  \n",
      "1               1  2701  \n",
      "2               1  5372  \n",
      "3               1  5003  \n",
      "4               1  5340  \n",
      "...           ...   ...  \n",
      "7038            0  5306  \n",
      "7039            0  2140  \n",
      "7040            0  5560  \n",
      "7041            0  2793  \n",
      "7042            0  5097  \n",
      "\n",
      "[7043 rows x 31 columns]\n"
     ]
    }
   ],
   "source": [
    "import pandas as pd\n",
    "\n",
    "\n",
    "df = pd.DataFrame(dataset)\n",
    "\n",
    "df.to_excel (r'C:\\Users\\Oscar\\Downloads\\dataset_clean.xlsx', index = False, header=True)\n",
    "\n",
    "print (df)"
   ]
  },
  {
   "cell_type": "code",
   "execution_count": null,
   "id": "collaborative-armor",
   "metadata": {},
   "outputs": [],
   "source": []
  }
 ],
 "metadata": {
  "kernelspec": {
   "display_name": "Python 3",
   "language": "python",
   "name": "python3"
  },
  "language_info": {
   "codemirror_mode": {
    "name": "ipython",
    "version": 3
   },
   "file_extension": ".py",
   "mimetype": "text/x-python",
   "name": "python",
   "nbconvert_exporter": "python",
   "pygments_lexer": "ipython3",
   "version": "3.7.6"
  }
 },
 "nbformat": 4,
 "nbformat_minor": 5
}
